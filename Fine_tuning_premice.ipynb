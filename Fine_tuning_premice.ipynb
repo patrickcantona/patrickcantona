{
  "cells": [
    {
      "cell_type": "markdown",
      "metadata": {
        "id": "view-in-github",
        "colab_type": "text"
      },
      "source": [
        "<a href=\"https://colab.research.google.com/github/patrickcantona/patrickcantona/blob/main/Fine_tuning_premice.ipynb\" target=\"_parent\"><img src=\"https://colab.research.google.com/assets/colab-badge.svg\" alt=\"Open In Colab\"/></a>"
      ]
    },
    {
      "cell_type": "code",
      "execution_count": 1,
      "metadata": {
        "id": "aM95emiZKjm3"
      },
      "outputs": [],
      "source": [
        "from IPython.display import clear_output"
      ]
    },
    {
      "cell_type": "code",
      "execution_count": 2,
      "metadata": {
        "id": "ca1nOOEPKxVV"
      },
      "outputs": [],
      "source": [
        "!pip install pyyaml==5.1\n",
        "!pip install -U 'git+https://github.com/cocodataset/cocoapi.git#subdirectory=PythonAPI'\n",
        "!git clone https://github.com/noba1anc3/Publaynet.git\n",
        "\n",
        "clear_output()"
      ]
    },
    {
      "cell_type": "code",
      "execution_count": 3,
      "metadata": {
        "colab": {
          "base_uri": "https://localhost:8080/"
        },
        "id": "OdG1br9SD3x_",
        "outputId": "e64f2da8-075a-4f17-d083-a5b26fd6905c"
      },
      "outputs": [
        {
          "output_type": "stream",
          "name": "stdout",
          "text": [
            "/content/Publaynet\n"
          ]
        }
      ],
      "source": [
        "cd Publaynet"
      ]
    },
    {
      "cell_type": "code",
      "execution_count": 4,
      "metadata": {
        "id": "mXLExFztK2ZB"
      },
      "outputs": [],
      "source": [
        "!git clone https://github.com/facebookresearch/detectron2.git\n",
        "clear_output()"
      ]
    },
    {
      "cell_type": "code",
      "execution_count": 5,
      "metadata": {
        "colab": {
          "base_uri": "https://localhost:8080/"
        },
        "id": "xlGy6DHSvh8q",
        "outputId": "e680b518-2e4c-4d60-c808-391462239dec"
      },
      "outputs": [
        {
          "output_type": "stream",
          "name": "stdout",
          "text": [
            "/content/Publaynet/detectron2\n"
          ]
        }
      ],
      "source": [
        "cd detectron2"
      ]
    },
    {
      "cell_type": "code",
      "execution_count": 6,
      "metadata": {
        "id": "DKS_7GsfvsPJ"
      },
      "outputs": [],
      "source": [
        "!python -m pip install -e .\n",
        "clear_output()"
      ]
    },
    {
      "cell_type": "code",
      "execution_count": 7,
      "metadata": {
        "colab": {
          "base_uri": "https://localhost:8080/"
        },
        "id": "jQLRqP4Kvu-7",
        "outputId": "656824ff-ffbf-4d92-ea49-abb764538818"
      },
      "outputs": [
        {
          "output_type": "stream",
          "name": "stdout",
          "text": [
            "/content/Publaynet\n"
          ]
        }
      ],
      "source": [
        "cd .."
      ]
    },
    {
      "cell_type": "code",
      "execution_count": null,
      "metadata": {
        "colab": {
          "base_uri": "https://localhost:8080/"
        },
        "id": "BpHiKc5w0cMG",
        "outputId": "0c57d941-c16a-4eb9-a1c2-be502115db4b"
      },
      "outputs": [
        {
          "name": "stdout",
          "output_type": "stream",
          "text": [
            "Mounted at /content/drive/\n"
          ]
        }
      ],
      "source": [
        "from google.colab import drive\n",
        "drive.mount('/content/drive/')"
      ]
    },
    {
      "cell_type": "code",
      "execution_count": 8,
      "metadata": {
        "id": "TBa-geH6FMpK"
      },
      "outputs": [],
      "source": [
        "mkdir data"
      ]
    },
    {
      "cell_type": "code",
      "execution_count": null,
      "metadata": {
        "id": "0zZILzG8afl1"
      },
      "outputs": [],
      "source": [
        "mkdir output"
      ]
    },
    {
      "cell_type": "code",
      "execution_count": null,
      "metadata": {
        "id": "_Y3Yb6L2eCo9"
      },
      "outputs": [],
      "source": [
        "cp -rf ../drive/'My Drive'/data/ ./\n"
      ]
    },
    {
      "cell_type": "code",
      "execution_count": null,
      "metadata": {
        "id": "Fkv1lLzylh4e"
      },
      "outputs": [],
      "source": [
        "cp -rf ../drive/'My Drive'/PubLayNet/model_final.pth ./output/"
      ]
    },
    {
      "cell_type": "code",
      "execution_count": 9,
      "metadata": {
        "colab": {
          "base_uri": "https://localhost:8080/"
        },
        "id": "Ql9Sc4vamfwl",
        "outputId": "e15e79bc-6da4-4162-a2c5-e1f7c821d895"
      },
      "outputs": [
        {
          "output_type": "stream",
          "name": "stdout",
          "text": [
            "\u001b[32m[03/15 13:24:52 d2.engine.hooks]: \u001b[0mOverall training speed: 70 iterations in 0:06:19 (5.4145 s / it)\n",
            "\u001b[32m[03/15 13:24:52 d2.engine.hooks]: \u001b[0mTotal training time: 0:06:19 (0:00:00 on hooks)\n",
            "\u001b[32m[03/15 13:24:52 d2.utils.events]: \u001b[0m eta: 0:40:00  iter: 572  total_loss: 0.01949  loss_cls: 0.008615  loss_box_reg: 0.008901  loss_rpn_cls: 5.507e-07  loss_rpn_loc: 0.001114  time: 5.3573  data_time: 0.0088  lr: 0.00057143  max_mem: 5535M\n",
            "Traceback (most recent call last):\n",
            "  File \"train.py\", line 68, in <module>\n",
            "    main(sys.argv[1:])\n",
            "  File \"train.py\", line 59, in main\n",
            "    trainer.train()\n",
            "  File \"/content/Publaynet/detectron2/detectron2/engine/defaults.py\", line 484, in train\n",
            "    super().train(self.start_iter, self.max_iter)\n",
            "  File \"/content/Publaynet/detectron2/detectron2/engine/train_loop.py\", line 149, in train\n",
            "    self.run_step()\n",
            "  File \"/content/Publaynet/detectron2/detectron2/engine/defaults.py\", line 494, in run_step\n",
            "    self._trainer.run_step()\n",
            "  File \"/content/Publaynet/detectron2/detectron2/engine/train_loop.py\", line 287, in run_step\n",
            "    self._write_metrics(loss_dict, data_time)\n",
            "  File \"/content/Publaynet/detectron2/detectron2/engine/train_loop.py\", line 302, in _write_metrics\n",
            "    SimpleTrainer.write_metrics(loss_dict, data_time, prefix)\n",
            "  File \"/content/Publaynet/detectron2/detectron2/engine/train_loop.py\", line 316, in write_metrics\n",
            "    metrics_dict = {k: v.detach().cpu().item() for k, v in loss_dict.items()}\n",
            "  File \"/content/Publaynet/detectron2/detectron2/engine/train_loop.py\", line 316, in <dictcomp>\n",
            "    metrics_dict = {k: v.detach().cpu().item() for k, v in loss_dict.items()}\n",
            "KeyboardInterrupt\n"
          ]
        }
      ],
      "source": [
        "!python train.py -f False"
      ]
    },
    {
      "cell_type": "code",
      "execution_count": 19,
      "metadata": {
        "id": "izguzjWVpQHB",
        "colab": {
          "base_uri": "https://localhost:8080/"
        },
        "outputId": "ec66d1df-df03-4249-8823-373003bc07a7"
      },
      "outputs": [
        {
          "output_type": "stream",
          "name": "stdout",
          "text": [
            "categories:  ['bilan']\n",
            "textImg_metadata:  Metadata(name='valSet', thing_classes=['bilan'])\n",
            "./data/test3/images/dutch_singleDF(74)_page1.jpg\n",
            "/usr/local/lib/python3.7/dist-packages/torch/functional.py:445: UserWarning: torch.meshgrid: in an upcoming release, it will be required to pass the indexing argument. (Triggered internally at  ../aten/src/ATen/native/TensorShape.cpp:2157.)\n",
            "  return _VF.meshgrid(tensors, **kwargs)  # type: ignore[attr-defined]\n",
            "<Figure size 640x480 with 1 Axes>\n",
            "time used per img: 14.330463171005249 sec\n"
          ]
        }
      ],
      "source": [
        "!python test_per_img.py "
      ]
    },
    {
      "cell_type": "code",
      "source": [
        ""
      ],
      "metadata": {
        "id": "G_7T9eZJwmQx"
      },
      "execution_count": null,
      "outputs": []
    }
  ],
  "metadata": {
    "accelerator": "GPU",
    "colab": {
      "collapsed_sections": [],
      "name": "Fine tuning premice",
      "provenance": [],
      "authorship_tag": "ABX9TyNqAY2HfjuVw+YjNiurQIwE",
      "include_colab_link": true
    },
    "kernelspec": {
      "display_name": "Python 3",
      "name": "python3"
    },
    "language_info": {
      "name": "python"
    }
  },
  "nbformat": 4,
  "nbformat_minor": 0
}